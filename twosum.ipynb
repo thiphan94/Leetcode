{
 "cells": [
  {
   "cell_type": "markdown",
   "id": "fe4a19f7-2243-42f7-bcd7-fefbc78c37ab",
   "metadata": {},
   "source": [
    "Given an array of integers nums and an integer target, return indices of the two numbers such that they add up to target.\n",
    "\n",
    "You may assume that each input would have exactly one solution, and you may not use the same element twice.\n",
    "\n",
    "You can return the answer in any order."
   ]
  },
  {
   "cell_type": "markdown",
   "id": "a323d9f5-a487-410d-b089-e4bb241c94bc",
   "metadata": {},
   "source": [
    "Input: nums = [2,7,11,15], target = 9\n",
    "Output: [0,1]\n",
    "Explanation: Because nums[0] + nums[1] == 9, we return [0, 1]."
   ]
  },
  {
   "cell_type": "code",
   "execution_count": null,
   "id": "ad30e44c-9e0f-4cbe-a3ce-c5d051ca77ee",
   "metadata": {},
   "outputs": [],
   "source": [
    "class Solution {\n",
    "    public int[] twoSum(int[] nums, int target) {\n",
    "        for (int i = 0; i < nums.length; i++) {\n",
    "            for (int j = i + 1; j < nums.length; j++) {\n",
    "                if (nums[j] == target - nums[i]) {\n",
    "                    return new int[] { i, j };\n",
    "                }\n",
    "            }\n",
    "        }\n",
    "        throw new IllegalArgumentException(\"No two sum solution\");\n",
    "    }\n",
    "}"
   ]
  },
  {
   "cell_type": "code",
   "execution_count": 6,
   "id": "def02643-2f35-424b-a5d5-95570abe7319",
   "metadata": {},
   "outputs": [
    {
     "data": {
      "text/plain": [
       "23"
      ]
     },
     "execution_count": 6,
     "metadata": {},
     "output_type": "execute_result"
    }
   ],
   "source": [
    "123%100\n"
   ]
  },
  {
   "cell_type": "code",
   "execution_count": null,
   "id": "8084f9d8-fd9f-4000-a55e-99416b3c1b83",
   "metadata": {},
   "outputs": [],
   "source": []
  }
 ],
 "metadata": {
  "kernelspec": {
   "display_name": "Python 3 (ipykernel)",
   "language": "python",
   "name": "python3"
  },
  "language_info": {
   "codemirror_mode": {
    "name": "ipython",
    "version": 3
   },
   "file_extension": ".py",
   "mimetype": "text/x-python",
   "name": "python",
   "nbconvert_exporter": "python",
   "pygments_lexer": "ipython3",
   "version": "3.10.5"
  }
 },
 "nbformat": 4,
 "nbformat_minor": 5
}
