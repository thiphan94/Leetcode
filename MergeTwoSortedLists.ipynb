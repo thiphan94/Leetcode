{
 "cells": [
  {
   "cell_type": "markdown",
   "id": "04ddb71b-d593-4ac3-b35d-039907f9fb83",
   "metadata": {},
   "source": [
    "You are given the heads of two sorted linked lists list1 and list2.\n",
    "\n",
    "Merge the two lists in a one sorted list. The list should be made by splicing together the nodes of the first two lists.\n",
    "\n",
    "Return the head of the merged linked list.\n",
    "\n",
    "Input: list1 = [1,2,4], list2 = [1,3,4]\n",
    "Output: [1,1,2,3,4,4]"
   ]
  },
  {
   "cell_type": "code",
   "execution_count": null,
   "id": "a5ef5812-d228-47b3-a81f-2dff1104f4f0",
   "metadata": {},
   "outputs": [],
   "source": [
    "class Solution:\n",
    "    def mergeTwoLists(self, l1: Optional[ListNode], l2: Optional[ListNode]) -> Optional[ListNode]:\n",
    "        dummy= curr = ListNode(0)\n",
    "\n",
    "        while(l1 and l2):\n",
    "            if (l1.val < l2.val):\n",
    "                curr.next = l1\n",
    "                l1 = l1.next\n",
    "                curr = curr.next\n",
    "\n",
    "            elif (l1.val >= l2.val):\n",
    "                curr.next = l2\n",
    "                l2 = l2.next\n",
    "                curr = curr.next\n",
    "\n",
    "        curr.next = l1 or l2\n",
    "        return dummy.next "
   ]
  }
 ],
 "metadata": {
  "kernelspec": {
   "display_name": "Python 3 (ipykernel)",
   "language": "python",
   "name": "python3"
  },
  "language_info": {
   "codemirror_mode": {
    "name": "ipython",
    "version": 3
   },
   "file_extension": ".py",
   "mimetype": "text/x-python",
   "name": "python",
   "nbconvert_exporter": "python",
   "pygments_lexer": "ipython3",
   "version": "3.10.6"
  }
 },
 "nbformat": 4,
 "nbformat_minor": 5
}
