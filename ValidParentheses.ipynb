{
 "cells": [
  {
   "cell_type": "markdown",
   "id": "95ec3e79-a9ff-4c3a-ac33-6dd771b9df06",
   "metadata": {},
   "source": [
    "Given a string s containing just the characters '(', ')', '{', '}', '[' and ']', determine if the input string is valid.\n",
    "\n",
    "An input string is valid if:\n",
    "\n",
    "    Open brackets must be closed by the same type of brackets.\n",
    "    Open brackets must be closed in the correct order.\n",
    "    Every close bracket has a corresponding open bracket of the same type.\n",
    "\n",
    " \n",
    "\n",
    "Example 1:\n",
    "\n",
    "Input: s = \"()\"\n",
    "Output: true\n"
   ]
  },
  {
   "cell_type": "code",
   "execution_count": null,
   "id": "c0a06501-129a-4bc6-b295-e95cc9c0b1e9",
   "metadata": {},
   "outputs": [],
   "source": [
    "class Solution(object):\n",
    "    def isValid(self, s):\n",
    "        \"\"\"\n",
    "        :type s: str\n",
    "        :rtype: bool\n",
    "        \"\"\"\n",
    "        \n",
    "        stack = []\n",
    "        begin= \"({[\"\n",
    "        end = \")}]\"\n",
    "        \n",
    "        for elt in s:\n",
    "            if elt in begin:\n",
    "                stack.append(elt)\n",
    "            elif elt in end:\n",
    "                if len(stack) == 0:\n",
    "                    return False\n",
    "                elif end.index(elt) != begin.index(stack.pop()):\n",
    "                    return False \n",
    "\n",
    "        return len(stack) == 0\n",
    "        "
   ]
  }
 ],
 "metadata": {
  "kernelspec": {
   "display_name": "Python 3 (ipykernel)",
   "language": "python",
   "name": "python3"
  },
  "language_info": {
   "codemirror_mode": {
    "name": "ipython",
    "version": 3
   },
   "file_extension": ".py",
   "mimetype": "text/x-python",
   "name": "python",
   "nbconvert_exporter": "python",
   "pygments_lexer": "ipython3",
   "version": "3.10.6"
  }
 },
 "nbformat": 4,
 "nbformat_minor": 5
}
