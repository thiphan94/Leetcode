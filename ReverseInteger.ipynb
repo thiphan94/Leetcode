{
 "cells": [
  {
   "cell_type": "markdown",
   "id": "bed8f8f6-5713-4f98-80c4-b5c16825c3b6",
   "metadata": {},
   "source": [
    "Given a signed 32-bit integer x, return x with its digits reversed. If reversing x causes the value to go outside the signed 32-bit integer range [-231, 231 - 1], then return 0.\n",
    "\n",
    "Assume the environment does not allow you to store 64-bit integers (signed or unsigned).\n",
    "\n",
    "\n",
    "Example 1:\n",
    "\n",
    "Input: x = 123\n",
    "Output: 321\n"
   ]
  },
  {
   "cell_type": "code",
   "execution_count": null,
   "id": "df7b73c7-853a-49b8-97c8-0f85445f0c6a",
   "metadata": {},
   "outputs": [],
   "source": [
    "class Solution:\n",
    "    def reverse(self, x: int) -> int:\n",
    "        rev = 0\n",
    "        sign = x\n",
    "        if x < 0: \n",
    "            x = -x\n",
    "        while(x):\n",
    "            a = x % 10\n",
    "            rev = rev * 10 + a\n",
    "            x = x // 10\n",
    "        if (-2**31 < rev < 2**31):\n",
    "            if sign >= 0:\n",
    "                return rev\n",
    "            else:\n",
    "                return (-1)*rev\n",
    "        else:\n",
    "            return 0"
   ]
  },
  {
   "cell_type": "code",
   "execution_count": 8,
   "id": "98ea2a00-e95f-4ffe-99fc-64aae1948dba",
   "metadata": {},
   "outputs": [
    {
     "data": {
      "text/plain": [
       "123"
      ]
     },
     "execution_count": 8,
     "metadata": {},
     "output_type": "execute_result"
    }
   ],
   "source": [
    "123//1\n",
    "\n",
    "\n"
   ]
  },
  {
   "cell_type": "code",
   "execution_count": null,
   "id": "290959c8-3816-44ce-bae6-8f4a9fd2d9c8",
   "metadata": {},
   "outputs": [],
   "source": []
  },
  {
   "cell_type": "code",
   "execution_count": null,
   "id": "e68ddc58-781e-4414-aa15-c8b23bb8d87e",
   "metadata": {},
   "outputs": [],
   "source": []
  }
 ],
 "metadata": {
  "kernelspec": {
   "display_name": "Python 3 (ipykernel)",
   "language": "python",
   "name": "python3"
  },
  "language_info": {
   "codemirror_mode": {
    "name": "ipython",
    "version": 3
   },
   "file_extension": ".py",
   "mimetype": "text/x-python",
   "name": "python",
   "nbconvert_exporter": "python",
   "pygments_lexer": "ipython3",
   "version": "3.10.5"
  }
 },
 "nbformat": 4,
 "nbformat_minor": 5
}
